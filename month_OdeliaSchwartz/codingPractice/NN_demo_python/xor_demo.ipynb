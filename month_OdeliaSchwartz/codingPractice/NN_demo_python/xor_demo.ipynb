{
 "cells": [
  {
   "cell_type": "markdown",
   "metadata": {},
   "source": [
    "# Multilayer feedforward network example\n",
    "This is a simple implementation of multilayer feed forward network. Flexible enough to make easy changes to the architecture, but simple enough to browse through the code. The main purpose of this module is to ilustrate the main components involved in neural network training: data manager, layers, activation functions, network, cost functions, and training algorithm. Code by Luis Gonzalo Sanchez Giraldo (used in Berkeley Summer Course 2016, Odelia Schwartz)"
   ]
  },
  {
   "cell_type": "code",
   "execution_count": 1,
   "metadata": {
    "collapsed": false
   },
   "outputs": [],
   "source": [
    "%matplotlib inline\n",
    "\n",
    "import matplotlib\n",
    "import numpy as np\n",
    "import matplotlib.pyplot as plt\n",
    "\n",
    "# Module with the neural net classes \n",
    "import DNN"
   ]
  },
  {
   "cell_type": "markdown",
   "metadata": {},
   "source": [
    "We will demonstrate the nonlinear representation capabilities of the multilayer feedforward network with the XOR problem. First, let's create a small dataset with samples from positive and negative classes.  "
   ]
  },
  {
   "cell_type": "code",
   "execution_count": 2,
   "metadata": {
    "collapsed": false
   },
   "outputs": [
    {
     "data": {
      "image/png": "[encoded data removed]",
      "text/plain": [
       "<matplotlib.figure.Figure at 0x107588b10>"
      ]
     },
     "metadata": {},
     "output_type": "display_data"
    }
   ],
   "source": [
    "N = 100\n",
    "data = np.concatenate((np.random.multivariate_normal(mean=[0, 0], cov=[[0.5, 0],[0, 0.5]], size=N), \\\n",
    "                       np.random.multivariate_normal(mean=[2, 2], cov=[[0.5, 0],[0, 0.5]], size=N), \\\n",
    "                       np.random.multivariate_normal(mean=[0, 2], cov=[[0.5, 0],[0, 0.5]], size=N), \\\n",
    "                       np.random.multivariate_normal(mean=[2, 0], cov=[[0.5, 0],[0, 0.5]], size=N)), axis=0)\n",
    "\n",
    "# Arrays are explicitly defined as (N x 1) for convenience allowing generalizations to netowrks with multidimensional outputs\n",
    "labels = np.concatenate((np.ones((2*N, 1)), np.zeros((2*N, 1))), axis=0)\n",
    "\n",
    "plt.plot(data[labels[:,0] == 1, 0], data[labels[:,0] == 1, 1], 'r+', label='label = 1')\n",
    "plt.hold\n",
    "plt.plot(data[labels[:,0] == 0, 0], data[labels[:,0] == 0, 1], 'bo', label='label = 0')\n",
    "plt.legend()\n",
    "plt.show()"
   ]
  },
  {
   "cell_type": "markdown",
   "metadata": {},
   "source": [
    "## Defining the network\n",
    "Let's define a multiple layer network to learn the XOR function. First, we need to instantiate an empty Net object. Then layers can be added from input to output layers by invoking the addLayer method of the Net object."
   ]
  },
  {
   "cell_type": "code",
   "execution_count": 3,
   "metadata": {
    "collapsed": false
   },
   "outputs": [],
   "source": [
    "# instantiate an empty network  \n",
    "my_net = DNN.Net()\n",
    "# add layers to my_net in a bottom up fashion\n",
    "my_net.addLayer(n_in=2, n_out=4, activation='relu')\n",
    "my_net.addLayer(n_out=1, activation='sigmoid')"
   ]
  },
  {
   "cell_type": "markdown",
   "metadata": {},
   "source": [
    "## Choosing a solver and setting up the net trainer\n",
    "The solver class contains the methods that can be employed to compute the paramter updates. The solver function takes the gradients of the cost function with respect to the network parameters and calculates the corresponding increments to the current network parameters. "
   ]
  },
  {
   "cell_type": "code",
   "execution_count": 8,
   "metadata": {
    "collapsed": true
   },
   "outputs": [],
   "source": [
    "# create solver object for training the feedforward network \n",
    "solver_params = {'lr_rate': 0.01,  \\\n",
    "                 'momentum': 0.9,  \\\n",
    "                 'solver': 'sgd'}  \n",
    "my_solver = DNN.Solver(solver_params)\n",
    "\n"
   ]
  },
  {
   "cell_type": "markdown",
   "metadata": {},
   "source": [
    "The NetTrainer takes a Net object along with the solver and adds a loss function that will be employed for trainer. The main function of the NetTrainer is to manage calls that propagate training data forward, backpropagate the errors (cost gradients), and perform parameter updates. The trainer requires the training data and target values (aka labels), Solver and Net objects and additional information such as the number of iterations, batch sizes, and display of current objective values during training.  "
   ]
  },
  {
   "cell_type": "code",
   "execution_count": 9,
   "metadata": {
    "collapsed": false
   },
   "outputs": [],
   "source": [
    "# instantiate a NetTrainer to learn parameters of my_net using the my_solver \n",
    "train_params = {'net': my_net, \\\n",
    "                'loss_func': 'xent', \\\n",
    "                'batch_size': 10,  \\\n",
    "                'max_iter': 100000, \\\n",
    "                'train_data': data, \\\n",
    "                'label_data': labels, \\\n",
    "                'solver': my_solver, \\\n",
    "                'print_interval': 10000}\n",
    "my_trainer = DNN.NetTrainer(train_params)"
   ]
  },
  {
   "cell_type": "markdown",
   "metadata": {},
   "source": [
    "## Training the network\n",
    "Once the NetTrainer object has been properly instantiated, training is just a matter of invoking the train method. The trainer will run for the specified number of iterations and display the information accordingly."
   ]
  },
  {
   "cell_type": "code",
   "execution_count": 10,
   "metadata": {
    "collapsed": false,
    "scrolled": true
   },
   "outputs": [
    {
     "name": "stdout",
     "output_type": "stream",
     "text": [
      "Iteration 0, objective = 0.424012\n",
      "Iteration 10000, objective = 0.507515\n",
      "Iteration 20000, objective = 0.224958\n",
      "Iteration 30000, objective = 0.315347\n",
      "Iteration 40000, objective = 0.232850\n",
      "Iteration 50000, objective = 0.494990\n",
      "Iteration 60000, objective = 0.270148\n",
      "Iteration 70000, objective = 0.355661\n",
      "Iteration 80000, objective = 0.335032\n",
      "Iteration 90000, objective = 0.257371\n"
     ]
    }
   ],
   "source": [
    "my_trainer.train()"
   ]
  },
  {
   "cell_type": "markdown",
   "metadata": {},
   "source": [
    "## Checking the results\n",
    "After training, the Net object paramters must have change to approximate the input-output relation implicit in the training data. We can forward propagate the data and observe the predicted outputs."
   ]
  },
  {
   "cell_type": "code",
   "execution_count": 11,
   "metadata": {
    "collapsed": false
   },
   "outputs": [
    {
     "data": {
      "image/png": "[encoded data removed]",
      "text/plain": [
       "<matplotlib.figure.Figure at 0x10777d950>"
      ]
     },
     "metadata": {},
     "output_type": "display_data"
    }
   ],
   "source": [
    "my_net.forward(data)\n",
    "pred_labels = np.reshape(my_net.Xout > 0.5, -1)\n",
    "## plot data point with the predicted labels\n",
    "plt.plot(data[pred_labels, 0], data[pred_labels, 1], 'r+')\n",
    "plt.hold\n",
    "plt.plot(data[np.logical_not(pred_labels), 0], data[np.logical_not(pred_labels), 1], 'bo')\n",
    "plt.show()"
   ]
  },
  {
   "cell_type": "code",
   "execution_count": null,
   "metadata": {
    "collapsed": true
   },
   "outputs": [],
   "source": []
  },
  {
   "cell_type": "code",
   "execution_count": null,
   "metadata": {
    "collapsed": true
   },
   "outputs": [],
   "source": []
  }
 ],
 "metadata": {
  "kernelspec": {
   "display_name": "Python 2",
   "language": "python",
   "name": "python2"
  },
  "language_info": {
   "codemirror_mode": {
    "name": "ipython",
    "version": 2
   },
   "file_extension": ".py",
   "mimetype": "text/x-python",
   "name": "python",
   "nbconvert_exporter": "python",
   "pygments_lexer": "ipython2",
   "version": "2.7.11"
  }
 },
 "nbformat": 4,
 "nbformat_minor": 0
}
